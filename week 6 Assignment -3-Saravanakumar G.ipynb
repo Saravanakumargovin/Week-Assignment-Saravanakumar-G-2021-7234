{
 "cells": [
  {
   "cell_type": "markdown",
   "id": "00f942b4-f85b-44b1-b668-caa9641f2cb1",
   "metadata": {},
   "source": [
    "# week 6 Assignment 3 "
   ]
  },
  {
   "cell_type": "markdown",
   "id": "4cdd98aa-6dd5-4600-b4d7-85c888a7f256",
   "metadata": {},
   "source": [
    "## by Saravanakumar G(2021-7234)"
   ]
  },
  {
   "cell_type": "code",
   "execution_count": 1,
   "id": "8c8296be-8c0a-4b94-9ca3-223b2f6074e1",
   "metadata": {},
   "outputs": [],
   "source": [
    "import numpy as np"
   ]
  },
  {
   "cell_type": "code",
   "execution_count": 3,
   "id": "3c9859f7-e211-46f3-ac4d-3793c1488b47",
   "metadata": {},
   "outputs": [],
   "source": [
    "url=\"https://raw.githubusercontent.com/svkarthik86/Advanced-python/main/climate_project/climate_data_station1.csv\"\n",
    "climate_result=np.genfromtxt(url,delimiter=\",\",dtype=\"i\",skip_header=1)\n",
    "for i in range(2,11):\n",
    "    url=f\"https://raw.githubusercontent.com/svkarthik86/Advanced-python/main/climate_project/climate_data_station{i}.csv\"\n",
    "    data=np.genfromtxt(url,delimiter=\",\",skip_header=1,dtype=int)\n",
    "    climate_result=np.vstack((climate_result,data))\n",
    "l=np.array([])\n",
    "w1,w2,w3=0.3,0.2,0.5\n",
    "for i in climate_result:\n",
    "    l=np.append(l,(i[0]*w1+i[1]*w2+i[2]*w3))\n",
    "l=l.reshape(10000,1)\n",
    "climate_result=np.hstack((climate_result,l))\n",
    "np.savetxt(\"climate_result.csv\",climate_result,delimiter=\",\",fmt=[\"%d\",\"%d\",\"%d\",\"%.1f\"],header=\"temperature,rainfall,humidity,yield_of_corp\")"
   ]
  },
  {
   "cell_type": "code",
   "execution_count": null,
   "id": "f40ac91f-7cd6-4912-a377-3c83932331a2",
   "metadata": {},
   "outputs": [],
   "source": []
  }
 ],
 "metadata": {
  "kernelspec": {
   "display_name": "Python 3 (ipykernel)",
   "language": "python",
   "name": "python3"
  },
  "language_info": {
   "codemirror_mode": {
    "name": "ipython",
    "version": 3
   },
   "file_extension": ".py",
   "mimetype": "text/x-python",
   "name": "python",
   "nbconvert_exporter": "python",
   "pygments_lexer": "ipython3",
   "version": "3.9.7"
  }
 },
 "nbformat": 4,
 "nbformat_minor": 5
}
