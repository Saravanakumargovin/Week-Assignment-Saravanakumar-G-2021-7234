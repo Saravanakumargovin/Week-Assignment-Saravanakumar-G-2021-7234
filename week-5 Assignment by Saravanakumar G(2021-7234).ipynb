{
 "cells": [
  {
   "cell_type": "markdown",
   "id": "baa5b09c-a171-49d6-804a-889afc40fb7e",
   "metadata": {},
   "source": [
    "# WEEK5 Assignment- Python File Input and Output"
   ]
  },
  {
   "cell_type": "markdown",
   "id": "fd09fde1-5a38-471f-8df3-e816ff2be8e3",
   "metadata": {},
   "source": [
    "## submitted by Saravanakumar G(2021-7234)"
   ]
  },
  {
   "cell_type": "markdown",
   "id": "4ff3f632-0a9c-4c79-bac4-8321048cfaaf",
   "metadata": {},
   "source": [
    "Q.1 Problem Statements:\n",
    "Create a python program for taking user notes in text file. When a user starts it up, it should prompt them for a filename.\n",
    "If they enter a file name that doesn't exist, it should prompt them to enter the text they want to write to the file.\n",
    "After they enter the text, it should save the file and exit.If they enter a file name that already exists, \n",
    "it should ask the user if they want:\n",
    "A) Read the file\n",
    "B) Append the file\n",
    "C) Delete the file and start over\n",
    "\n",
    "If the user wants to read the file it should simply show the contents of the file on the screen.\n",
    "If the user wants to start over then the file should be deleted and another empty one made in its place.\n",
    "If a user elects to append the file, then they should be able to enter more text, \n",
    "and that text should be added to the existing text in the file.\n",
    "\n",
    "Note:\n",
    "    The software Development Team created partial python code for the above problem statement, you try to help them to complete the code wherever required and produce successful output "
   ]
  },
  {
   "cell_type": "code",
   "execution_count": 4,
   "id": "e9c838b1-1a67-4471-8b2f-19ea11339d71",
   "metadata": {},
   "outputs": [
    {
     "name": "stdin",
     "output_type": "stream",
     "text": [
      "Enter The File Name saravanaselva.txt\n"
     ]
    },
    {
     "name": "stdout",
     "output_type": "stream",
     "text": [
      "Looking for file:saravanaselva.txt\n",
      "Found it\n"
     ]
    },
    {
     "name": "stdin",
     "output_type": "stream",
     "text": [
      "Enter the possible file operation: read, append, delete, replace\n",
      " read\n"
     ]
    },
    {
     "name": "stdout",
     "output_type": "stream",
     "text": [
      "Found it\n",
      "\n",
      "Enter the possible file operation: read, append, delete, replace\n",
      "\n",
      "read\n",
      "\n",
      "saravanaselvafriendsfor ever\n",
      "\n",
      "\n",
      "\n",
      "saravanaselvasaravanaselva\n"
     ]
    }
   ],
   "source": [
    "import os\n",
    "filename=input(\"Enter The File Name\")\n",
    "# Here we check if the file exists\n",
    "if os.path.isfile('./'+filename):\n",
    "    print(f\"Looking for file:{filename}\")\n",
    "    print(\"Found it\")\n",
    "    action = input(\"Enter the possible file operation: read, append, delete, replace\\n\")\n",
    "    if action==\"read\":\n",
    "        \"\"\"To Do : write the code for file read operation\"\"\"\n",
    "        with open(filename,\"r\") as list:\n",
    "            for x in list:\n",
    "                print(x)\n",
    "            list.close()\n",
    "    elif action==\"append\":\n",
    "        \"\"\"To Do : write the code for file append operation\"\"\"\n",
    "        with open(filename,\"a\") as list:\n",
    "            n=input(\"Enter number of lines you want to add :\")\n",
    "            for _ in range(int(n)):\n",
    "                list.write(input()+\"\\n\")\n",
    "        \n",
    "            list.close()\n",
    "    elif action == \"delete\":\n",
    "        \"\"\"To Do : write the code for file dalete and another empty one made in its place operation\"\"\"\n",
    "        os.remove(filename)\n",
    "        f = open(filename, \"x\")\n",
    "        f.close()\n",
    "    else:\n",
    "        print(\"Sorry, unrecognized action 😢\")\n",
    "else:\n",
    "    print(\"Nope, this file does not exist, I'm going to create it for you! 😄\")\n",
    "    \"\"\"To Do : write the code for file create and write the notes \"\"\"\n",
    "    f = open(filename, \"x\")\n",
    "    f.close()"
   ]
  },
  {
   "cell_type": "code",
   "execution_count": null,
   "id": "ec813887-a389-4733-a178-c4102a201daf",
   "metadata": {},
   "outputs": [],
   "source": []
  },
  {
   "cell_type": "markdown",
   "id": "0414476a-e1c0-4b23-95d9-9b90846927af",
   "metadata": {},
   "source": [
    "# Q2.Text File Analytics:"
   ]
  },
  {
   "cell_type": "markdown",
   "id": "4a3dec18-e5c2-4214-b50e-5925e6bb9594",
   "metadata": {},
   "source": [
    "Q2.1 Assume you as Data Analyst, you need to collect all text file name from current working directory and store the all text file name into \n",
    "    \"txtfile_namelist.txt\" and read this file and print How many files are available in that namelist."
   ]
  },
  {
   "cell_type": "code",
   "execution_count": 6,
   "id": "802d7739-a562-43ab-8b53-688b420f1c74",
   "metadata": {},
   "outputs": [
    {
     "name": "stdout",
     "output_type": "stream",
     "text": [
      "Number of text Files : 16\n"
     ]
    }
   ],
   "source": [
    "import os\n",
    "count=0\n",
    "with open(\"txtfile_namelist.txt\",\"w+\") as txt_list:\n",
    "    for files in os.listdir():\n",
    "        if files.endswith(\".txt\"):\n",
    "            txt_list.write(files+\"\\n\")\n",
    "            count+=1\n",
    "print(f\"Number of text Files : {count}\")"
   ]
  },
  {
   "cell_type": "raw",
   "id": "c06dae8e-64ba-4941-8bf0-021de44edd00",
   "metadata": {},
   "source": [
    "Q2.2 write the following contents to zenofpython.txt\n",
    "content:\n",
    "--------------------------------------------------------------\n",
    "The Zen of Python, by Tim Peters\n",
    "Beautiful is better than ugly.\n",
    "Explicit is better than implicit.\n",
    "Simple is better than complex.\n",
    "Complex is better than complicated.\n",
    "Flat is better than nested.\n",
    "Sparse is better than dense.\n",
    "Readability counts.\n",
    "Special cases aren't special enough to break the rules.\n",
    "Although practicality beats purity.\n",
    "Errors should never pass silently.\n",
    "Unless explicitly silenced.\n",
    "In the face of ambiguity, refuse the temptation to guess.\n",
    "There should be one -- and preferably only one -- obvious way to do it.\n",
    "Although that way may not be obvious at first unless you're Dutch.\n",
    "Now is better than never.\n",
    "Although never is often better than right now.\n",
    "If the implementation is hard to explain, it's a bad idea.\n",
    "If the implementation is easy to explain, it may be a good idea.\n",
    "Namespaces are one honking great idea -- let's do more of those!\n",
    "------------------------------------------------------------------\n",
    "an perform the following Operation:\n",
    "1.print number of lines in the zenofpython.txt file\n",
    "2.print number of words in the zenofpython.txt file\n",
    "3.Print how may python keyword present in the zenofpython.txt file\n",
    "4.print the all content in uppercase"
   ]
  },
  {
   "cell_type": "code",
   "execution_count": 7,
   "id": "e541991e-c936-4a77-bc21-4b3a9cf1e452",
   "metadata": {},
   "outputs": [
    {
     "name": "stdout",
     "output_type": "stream",
     "text": [
      "Number of lines in file : 20\n"
     ]
    }
   ],
   "source": [
    "f = open(\"zenofpython.txt\", \"r\")\n",
    "count=0\n",
    "for x in f:\n",
    "  count+=1\n",
    "print(f\"Number of lines in file : {count}\")"
   ]
  },
  {
   "cell_type": "code",
   "execution_count": 9,
   "id": "57cec1fe-b0bd-465b-bd84-df2d3592c3e6",
   "metadata": {},
   "outputs": [
    {
     "name": "stdout",
     "output_type": "stream",
     "text": [
      "Number of words in file : 146\n",
      "Number of Keywords : 14\n"
     ]
    }
   ],
   "source": [
    "import keyword\n",
    "s = keyword.kwlist\n",
    "with open(r'zenofpython.txt','r') as file:\n",
    "    data = file.read()\n",
    "    lines = data.split()\n",
    "    print(f\"Number of words in file : {len(lines)}\")\n",
    "    count1=0\n",
    "    for a in lines:\n",
    "        for b in s:\n",
    "            if a==b:\n",
    "                count1+=1\n",
    "    data = file.read().upper()\n",
    "    print(f\"Number of Keywords : {count1}\")\n",
    "    "
   ]
  },
  {
   "cell_type": "code",
   "execution_count": 10,
   "id": "23c2c4eb-9950-48de-9a0d-26f5b9a05a62",
   "metadata": {},
   "outputs": [
    {
     "name": "stdout",
     "output_type": "stream",
     "text": [
      "THE ZEN OF PYTHON, BY TIM PETERS\n",
      "BEAUTIFUL IS BETTER THAN UGLY.\n",
      "EXPLICIT IS BETTER THAN IMPLICIT.\n",
      "SIMPLE IS BETTER THAN COMPLEX.\n",
      "COMPLEX IS BETTER THAN COMPLICATED.\n",
      "FLAT IS BETTER THAN NESTED.\n",
      "SPARSE IS BETTER THAN DENSE.\n",
      "READABILITY COUNTS.\n",
      "SPECIAL CASES AREN'T SPECIAL ENOUGH TO BREAK THE RULES.\n",
      "ALTHOUGH PRACTICALITY BEATS PURITY.\n",
      "ERRORS SHOULD NEVER PASS SILENTLY.\n",
      "UNLESS EXPLICITLY SILENCED.\n",
      "IN THE FACE OF AMBIGUITY, REFUSE THE TEMPTATION TO GUESS.\n",
      "THERE SHOULD BE ONE -- AND PREFERABLY ONLY ONE -- OBVIOUS WAY TO DO IT.\n",
      "ALTHOUGH THAT WAY MAY NOT BE OBVIOUS AT FIRST UNLESS YOU'RE DUTCH.\n",
      "NOW IS BETTER THAN NEVER.\n",
      "ALTHOUGH NEVER IS OFTEN BETTER THAN RIGHT NOW.\n",
      "IF THE IMPLEMENTATION IS HARD TO EXPLAIN, IT'S A BAD IDEA.\n",
      "IF THE IMPLEMENTATION IS EASY TO EXPLAIN, IT MAY BE A GOOD IDEA.\n",
      "NAMESPACES ARE ONE HONKING GREAT IDEA -- LET'S DO MORE OF THOSE!\n"
     ]
    }
   ],
   "source": [
    "with open(r'zenofpython.txt','r') as file:\n",
    "    data=file.read().upper()\n",
    "    print(data)"
   ]
  },
  {
   "cell_type": "code",
   "execution_count": null,
   "id": "d8fdba9e-4918-4da5-8a05-6fa30ba303dd",
   "metadata": {},
   "outputs": [],
   "source": []
  }
 ],
 "metadata": {
  "kernelspec": {
   "display_name": "Python 3 (ipykernel)",
   "language": "python",
   "name": "python3"
  },
  "language_info": {
   "codemirror_mode": {
    "name": "ipython",
    "version": 3
   },
   "file_extension": ".py",
   "mimetype": "text/x-python",
   "name": "python",
   "nbconvert_exporter": "python",
   "pygments_lexer": "ipython3",
   "version": "3.9.7"
  }
 },
 "nbformat": 4,
 "nbformat_minor": 5
}
