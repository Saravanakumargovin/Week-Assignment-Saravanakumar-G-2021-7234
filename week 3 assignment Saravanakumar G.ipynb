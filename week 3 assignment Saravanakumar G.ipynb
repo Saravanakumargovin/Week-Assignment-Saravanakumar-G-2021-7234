{
 "cells": [
  {
   "cell_type": "markdown",
   "id": "78f08fbb-c532-4448-b428-55ab1a6e3406",
   "metadata": {},
   "source": [
    "# WEEK 3: Assignment"
   ]
  },
  {
   "cell_type": "markdown",
   "id": "6384c254-faed-4646-b54b-0c24ae6e2b08",
   "metadata": {},
   "source": [
    "# by Saravanakumar G(2021-7234)"
   ]
  },
  {
   "cell_type": "markdown",
   "id": "a9a085c1-4e8b-4080-b972-ec498becdbe4",
   "metadata": {},
   "source": [
    "1.Calculate the Salary using Python Programming\n",
    "\n",
    "Read the question carefully and follow the input and output format. \n",
    "\n",
    "Karen got salary for this month and she spends 20% of her salary for food, 10% of her salary for entertainment and 10% of her salary for travel.If she takes care of other shifts she will get 4% of the salary per day. Given her salary and the number of shifts she handled.Calculate how much she can save in her pocket after spending all these?\n",
    "\n",
    "Input and Output Format : First line of input consists of an integer, salary. Next line correspond to the number of shifts. Output consist of an integer, \n",
    "which is saving.\n",
    " 1. Print \"Salary too large\" when salary is greater than 10000. \n",
    " 2. Print \"Shifts too small\" when the shift is less than 0. \n",
    " 3. Print \"Salary too small\" when the salary is less than 0.\n",
    "Include a function named calculateSal(salary,shifts)  to calcuate salary and print saving.\n",
    "\n",
    "- Sample Input 1:\n",
    "  7000\n",
    "  5\n",
    "  Sample Output 1:\n",
    "  5600\n",
    "- Sample Input 2:\n",
    "  80000\n",
    "  Sample Output 2:\n",
    "  Salary too large\n",
    "- Sample Input 2:\n",
    "  6000\n",
    "  -1\n",
    "  Sample Output 2:\n",
    "  Shift too small"
   ]
  },
  {
   "cell_type": "code",
   "execution_count": 15,
   "id": "ace626ef-ff56-4e85-ace5-d39eec7897f5",
   "metadata": {},
   "outputs": [
    {
     "name": "stdin",
     "output_type": "stream",
     "text": [
      "salary : 7000\n",
      "shifts : 5\n"
     ]
    },
    {
     "data": {
      "text/plain": [
       "5600"
      ]
     },
     "execution_count": 15,
     "metadata": {},
     "output_type": "execute_result"
    }
   ],
   "source": [
    "def calculatesal(salary,shifts):\n",
    "    if salary>10000:\n",
    "        print (\"salary too large\")\n",
    "    elif salary<0:\n",
    "        print(\"salary too small\")\n",
    "    elif shifts<0:\n",
    "        print (\"shifts too small\")\n",
    "    else:\n",
    "        savigs=(salary*0.60)+(salary*0.04*shifts)\n",
    "        return int(savigs)\n",
    "        print(int(savigs))\n",
    "salary=int(input(\"salary :\"))\n",
    "shifts=int(input(\"shifts :\"))\n",
    "calculatesal(salary,shifts)"
   ]
  },
  {
   "cell_type": "markdown",
   "id": "2765f1c8-7b29-4a5a-a530-5effc465e16e",
   "metadata": {},
   "source": [
    "# Question 2"
   ]
  },
  {
   "cell_type": "markdown",
   "id": "d22ff56f-a670-41eb-a555-9046539eb3d9",
   "metadata": {
    "jp-MarkdownHeadingCollapsed": true,
    "tags": []
   },
   "source": [
    "write python code to read n as integer,from STDIN. For all non-negative integers i<n ,print i**2.\n",
    "\n",
    "Example\n",
    "The list of non-negative integers that are less than n=3 is[0,1,2]. Print the square of each number on a separate line.\n",
    "0\n",
    "1\n",
    "4\n",
    "\n",
    "Input Format\n",
    "The first and only line contains the integer,n .\n",
    "Output Format\n",
    "Print n lines, one corresponding to each i .\n",
    "\n",
    "\n",
    "Sample Input \n",
    "5\n",
    "Sample Output \n",
    "0\n",
    "1\n",
    "4\n",
    "9\n",
    "16"
   ]
  },
  {
   "cell_type": "code",
   "execution_count": 25,
   "id": "63a7479f-f462-4b4d-a629-6f627edb6010",
   "metadata": {},
   "outputs": [
    {
     "name": "stdin",
     "output_type": "stream",
     "text": [
      "enter the number: 5\n"
     ]
    },
    {
     "name": "stdout",
     "output_type": "stream",
     "text": [
      "0\n",
      "1\n",
      "4\n",
      "9\n",
      "16\n"
     ]
    }
   ],
   "source": [
    "n=int(input(\"enter the number:\"))\n",
    "for i in range (n):\n",
    "    i=(i**2)\n",
    "    print(i)"
   ]
  },
  {
   "cell_type": "code",
   "execution_count": 31,
   "id": "3a3b9459-be0e-4ca2-b0dc-ba48e6cc22af",
   "metadata": {},
   "outputs": [
    {
     "name": "stdin",
     "output_type": "stream",
     "text": [
      "enter the square number: 5\n"
     ]
    },
    {
     "name": "stdout",
     "output_type": "stream",
     "text": [
      "the squre of each number:\n",
      "0\n",
      "\n",
      "1\n",
      "\n",
      "4\n",
      "\n",
      "9\n",
      "\n",
      "16\n",
      "\n"
     ]
    }
   ],
   "source": [
    "n=int(input(\"enter the square number:\"))\n",
    "print(\"the squre of each number:\")\n",
    "for i in range (n):\n",
    "    print(i**2)\n",
    "    print()\n",
    "      "
   ]
  },
  {
   "cell_type": "markdown",
   "id": "de262aba-4d02-4ab9-b72a-92916cfb0ff1",
   "metadata": {},
   "source": [
    "## Question 3"
   ]
  },
  {
   "cell_type": "markdown",
   "id": "ce28185b-00dd-4cba-a910-0bbd24a9cfec",
   "metadata": {},
   "source": [
    "Q3.An extra day is added to the calendar almost every four years as February 29, and the day is called a leap day. It corrects the calendar for the fact that our planet takes approximately 365.25 days to orbit the sun. A leap year contains a leap day.\n",
    "\n",
    "In the Gregorian calendar, three conditions are used to identify leap years:\n",
    "The year can be evenly divided by 4, is a leap year, unless:\n",
    "The year can be evenly divided by 100, it is NOT a leap year, unless:\n",
    "The year is also evenly divisible by 400. Then it is a leap year.\n",
    "This means that in the Gregorian calendar, the years 2000 and 2400 are leap years, while 1800, 1900, 2100, 2200, 2300 and 2500 are NOT leap years. Source\n",
    "\n",
    "Task\n",
    "Given a year, determine whether it is a leap year. If it is a leap year, return the Boolean True, otherwise return False.\n",
    "\n",
    "Note that the code stub provided reads from STDIN and passes arguments to the is_leap function. It is only necessary to complete the is_leap function.\n",
    "\n",
    "Input Format\n",
    "Read , the year as integer to test.\n",
    "Output Format\n",
    "The function must return a Boolean value (True/False)\n",
    "\n",
    "Sample Input \n",
    "1990\n",
    "Sample Output \n",
    "False"
   ]
  },
  {
   "cell_type": "code",
   "execution_count": 64,
   "id": "112d82df-d032-4ff2-900b-9bd3f201a284",
   "metadata": {},
   "outputs": [],
   "source": [
    "def is_leap1():\n",
    "    year = int(input(\"enter the year\"))\n",
    "    if (year % 400 == 0) and (year % 100 == 0):\n",
    "        return True\n",
    "    elif (year % 4 ==0) and (year % 100 != 0):\n",
    "        return True\n",
    "    else:\n",
    "        return False"
   ]
  },
  {
   "cell_type": "code",
   "execution_count": 65,
   "id": "df280ac7-fbf8-4782-a751-221c9e6e0615",
   "metadata": {},
   "outputs": [
    {
     "name": "stdin",
     "output_type": "stream",
     "text": [
      "enter the year 1900\n"
     ]
    },
    {
     "data": {
      "text/plain": [
       "False"
      ]
     },
     "execution_count": 65,
     "metadata": {},
     "output_type": "execute_result"
    }
   ],
   "source": [
    "is_leap1()"
   ]
  },
  {
   "cell_type": "code",
   "execution_count": null,
   "id": "00777267-63c6-442c-8c52-36ab9e4624bb",
   "metadata": {},
   "outputs": [],
   "source": []
  },
  {
   "cell_type": "markdown",
   "id": "1a18c7ca-89a7-431f-a672-2ea4a7fa2985",
   "metadata": {},
   "source": [
    "# WEEK 3: Assignment"
   ]
  },
  {
   "cell_type": "markdown",
   "id": "a8be3f24-e603-41c4-808a-3eb3ffb1f421",
   "metadata": {},
   "source": [
    "## Submitted by  Saravanakiumar G(2021-7234)"
   ]
  },
  {
   "cell_type": "markdown",
   "id": "1f339d02-cb82-4100-81d7-3e5054799b70",
   "metadata": {},
   "source": [
    "## Question 1 Answer"
   ]
  },
  {
   "cell_type": "code",
   "execution_count": 57,
   "id": "4b5346ee-5286-456b-a3e2-19947146f037",
   "metadata": {},
   "outputs": [
    {
     "name": "stdin",
     "output_type": "stream",
     "text": [
      "salary : 7000\n",
      "shifts : 5\n"
     ]
    },
    {
     "data": {
      "text/plain": [
       "5600"
      ]
     },
     "execution_count": 57,
     "metadata": {},
     "output_type": "execute_result"
    }
   ],
   "source": [
    "def calculatesal(salary,shifts):\n",
    "    if salary>10000:\n",
    "        print (\"salary too large\")\n",
    "    elif salary<0:\n",
    "        print(\"salary too small\")\n",
    "    elif shifts<0:\n",
    "        print (\"shifts too small\")\n",
    "    else:\n",
    "        savigs=(salary*0.60)+(salary*0.04*shifts)\n",
    "        return int(savigs)\n",
    "        print(int(savigs))\n",
    "salary=int(input(\"salary :\"))\n",
    "shifts=int(input(\"shifts :\"))\n",
    "calculatesal(salary,shifts)"
   ]
  },
  {
   "cell_type": "code",
   "execution_count": null,
   "id": "b4d7b9aa-0482-4a9b-9a85-393a7f16f73a",
   "metadata": {},
   "outputs": [],
   "source": []
  },
  {
   "cell_type": "markdown",
   "id": "7eddbd4d-6299-4c5c-b361-998911bc0f7c",
   "metadata": {},
   "source": [
    "## Question 2 Answer"
   ]
  },
  {
   "cell_type": "code",
   "execution_count": 59,
   "id": "d2ad0554-49dd-4584-9fa2-19d26427d4bc",
   "metadata": {},
   "outputs": [
    {
     "name": "stdin",
     "output_type": "stream",
     "text": [
      "enter the number: 5\n"
     ]
    },
    {
     "name": "stdout",
     "output_type": "stream",
     "text": [
      "0\n",
      "1\n",
      "4\n",
      "9\n",
      "16\n"
     ]
    }
   ],
   "source": [
    "n=int(input(\"enter the number:\"))\n",
    "for i in range (n):\n",
    "    i=(i**2)\n",
    "    print(i)"
   ]
  },
  {
   "cell_type": "code",
   "execution_count": 60,
   "id": "d202e3be-4d3b-4564-9b57-e865da0a034b",
   "metadata": {},
   "outputs": [
    {
     "name": "stdin",
     "output_type": "stream",
     "text": [
      "enter the square number: 5\n"
     ]
    },
    {
     "name": "stdout",
     "output_type": "stream",
     "text": [
      "the squre of each number:\n",
      "0\n",
      "\n",
      "1\n",
      "\n",
      "4\n",
      "\n",
      "9\n",
      "\n",
      "16\n",
      "\n"
     ]
    }
   ],
   "source": [
    "n=int(input(\"enter the square number:\"))\n",
    "print(\"the squre of each number:\")\n",
    "for i in range (n):\n",
    "    print(i**2)\n",
    "    print()"
   ]
  },
  {
   "cell_type": "markdown",
   "id": "402d6914-f4bb-45cb-b047-ec28a0f942bf",
   "metadata": {},
   "source": [
    "## Question 3 Answer"
   ]
  },
  {
   "cell_type": "code",
   "execution_count": 71,
   "id": "892df25e-a992-4ffb-8020-fcbba636df80",
   "metadata": {},
   "outputs": [],
   "source": [
    "def is_leap1():\n",
    "    year = int(input(\"enter the year\"))\n",
    "    if (year % 400 == 0) and (year % 100 == 0):\n",
    "        return True\n",
    "    elif (year % 4 ==0) and (year % 100 != 0):\n",
    "        return True\n",
    "    else:\n",
    "        return False"
   ]
  },
  {
   "cell_type": "code",
   "execution_count": 72,
   "id": "fd6e802a-13a9-41ad-bb9f-54ed7eb31956",
   "metadata": {},
   "outputs": [
    {
     "name": "stdin",
     "output_type": "stream",
     "text": [
      "enter the year 1900\n"
     ]
    },
    {
     "data": {
      "text/plain": [
       "False"
      ]
     },
     "execution_count": 72,
     "metadata": {},
     "output_type": "execute_result"
    }
   ],
   "source": [
    "is_leap1()"
   ]
  },
  {
   "cell_type": "code",
   "execution_count": null,
   "id": "89420747-db93-48d5-9454-c52e8caa49e6",
   "metadata": {},
   "outputs": [],
   "source": []
  }
 ],
 "metadata": {
  "kernelspec": {
   "display_name": "Python 3 (ipykernel)",
   "language": "python",
   "name": "python3"
  },
  "language_info": {
   "codemirror_mode": {
    "name": "ipython",
    "version": 3
   },
   "file_extension": ".py",
   "mimetype": "text/x-python",
   "name": "python",
   "nbconvert_exporter": "python",
   "pygments_lexer": "ipython3",
   "version": "3.9.7"
  }
 },
 "nbformat": 4,
 "nbformat_minor": 5
}
