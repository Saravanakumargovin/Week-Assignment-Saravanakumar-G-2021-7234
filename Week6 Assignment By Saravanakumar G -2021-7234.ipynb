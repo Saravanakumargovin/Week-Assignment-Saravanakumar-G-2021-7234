{
 "cells": [
  {
   "cell_type": "markdown",
   "id": "ef74c680-bb53-4823-9eba-1ce38f02f136",
   "metadata": {},
   "source": [
    "# WEEK6: Assignment- Python OOP"
   ]
  },
  {
   "cell_type": "markdown",
   "id": "5c35d5c4-7b9b-48a5-8a24-82066fe17c24",
   "metadata": {},
   "source": [
    "## Saravanakumar G (2021-7234)"
   ]
  },
  {
   "cell_type": "markdown",
   "id": "6b594be5-d2cb-4568-a06e-3b14241a8d24",
   "metadata": {},
   "source": [
    "Q1.Problem on class and object\n",
    "\n",
    "Task \n",
    "Write a Person class with an instance variable, age, and a constructor that takes an integer, initialAge,as a parameter.\n",
    "The constructor must assign initialAge to age after confirming the argument passed as initialAge is not negative;if a negative argument is passed as initialAge,the constructor should set age to 0 and print Age is not valid,setting age to 0. \n",
    "In addition, you must write the following instance methods: \n",
    "1.yearPasses() should increase the age instance variable by 1 \n",
    "2. amlOld() should perform the following conditional actions: \n",
    "- If age < 13, print You are young.. \n",
    "- If age > 13 and age < 18, print You are a teenager \n",
    "- Otherwise, print You are old.. \n",
    "\n",
    "Input Format\n",
    "The first line contains an integer,T(the number of test cases), and the T subsequent lines each contain an integer denoting the age of a Person instance."
   ]
  },
  {
   "cell_type": "code",
   "execution_count": 9,
   "id": "33a6207f-ffa0-4267-b05a-98f680a7c6a6",
   "metadata": {},
   "outputs": [
    {
     "name": "stdin",
     "output_type": "stream",
     "text": [
      " 4\n",
      " -1\n"
     ]
    },
    {
     "name": "stdout",
     "output_type": "stream",
     "text": [
      "Age is not a valid,setting age to a 0\n",
      "young\n",
      "young\n",
      "\n"
     ]
    },
    {
     "name": "stdin",
     "output_type": "stream",
     "text": [
      " 10\n"
     ]
    },
    {
     "name": "stdout",
     "output_type": "stream",
     "text": [
      "young\n",
      "teeneger\n",
      "\n"
     ]
    },
    {
     "name": "stdin",
     "output_type": "stream",
     "text": [
      " 16\n"
     ]
    },
    {
     "name": "stdout",
     "output_type": "stream",
     "text": [
      "teeneger\n",
      "old\n",
      "\n"
     ]
    },
    {
     "name": "stdin",
     "output_type": "stream",
     "text": [
      " 18\n"
     ]
    },
    {
     "name": "stdout",
     "output_type": "stream",
     "text": [
      "teeneger\n",
      "old\n",
      "\n"
     ]
    }
   ],
   "source": [
    "class Person:\n",
    "    def __init__(self,initialAge):\n",
    "        self.age=initialAge\n",
    "        if(self.age<0):\n",
    "            print(\"Age is not a valid,setting age to a 0\")\n",
    "            self.age=0\n",
    "        \n",
    "        # Add some more code to run some checks on initialAge\n",
    "    def amIOld(self):\n",
    "        # Do some computations in here and print out the correct statement to the console\n",
    "        if(self.age<13):\n",
    "            print(\"young\")\n",
    "        elif(self.age>=13 and self.age<=18):\n",
    "            print(\"teeneger\")\n",
    "        else:\n",
    "            print(\"old\")\n",
    "    def yearPasses(self):\n",
    "        # Increment the age of the person in here\n",
    "        self.age+=1\n",
    "\n",
    "t = int(input())\n",
    "for i in range(0, t):\n",
    "    age = int(input())         \n",
    "    p = Person(age)  \n",
    "    p.amIOld()\n",
    "    for j in range(0, 3):\n",
    "        p.yearPasses()       \n",
    "    p.amIOld()\n",
    "    print(\"\")"
   ]
  },
  {
   "cell_type": "code",
   "execution_count": null,
   "id": "3b418b37-10de-4b47-ab37-a90a98a0d471",
   "metadata": {},
   "outputs": [],
   "source": []
  },
  {
   "cell_type": "markdown",
   "id": "4ac8442b-1d6d-4ceb-be63-97f454f82987",
   "metadata": {},
   "source": [
    "Q2.Problem on Inheritance\n",
    "\n",
    "Task \n",
    "You are given two classes, Person and Student, where Person is the base class and Student is the derived \n",
    "class. Completed code for Person and a declaration for Student are provided for you in the editor. Observe that Student inherits all the properties of Person. \n",
    "Complete the Student class by writing the following: \n",
    "• A Student class constructor, which has 4 parameters: \n",
    "1. A string, firstName. \n",
    "2. A string, lastName. \n",
    "3. An integer, id. \n",
    "4. An integer array (or vector) of test scores, scores. \n",
    "• A char calculate() method that calculates a Student object's average and returns the grade character \n",
    "representative Of their calculated average"
   ]
  },
  {
   "cell_type": "markdown",
   "id": "77aae3c5-5719-4c69-8d24-364b4a675735",
   "metadata": {},
   "source": [
    "# Q2"
   ]
  },
  {
   "cell_type": "code",
   "execution_count": 3,
   "id": "8322d354-c015-44fd-9ade-30628999f834",
   "metadata": {},
   "outputs": [
    {
     "name": "stdin",
     "output_type": "stream",
     "text": [
      " Heraldo Memelli 8135627 \n",
      " 20\n",
      " 100 80\n"
     ]
    },
    {
     "name": "stdout",
     "output_type": "stream",
     "text": [
      "Name: Memelli, Heraldo\n",
      "ID: 8135627\n",
      "Grade: O\n"
     ]
    }
   ],
   "source": [
    "class Person:\n",
    "    # Write your code here\n",
    "    def __init__(self,firstName, lastName, idNumber):\n",
    "        self.firstName=firstName\n",
    "        self.lastName = lastName\n",
    "        self.idNumber = idNumber\n",
    "    def printPerson(self):\n",
    "        print(f\"Name: {self.lastName}, {self.firstName}\\nID: {self.idNumber}\")\n",
    "        \n",
    "class Student(Person):\n",
    "    #   Class Constructor\n",
    "     \n",
    "    #   Parameters:\n",
    "    #   firstName - A string denoting the Person's first name.\n",
    "    #   lastName - A string denoting the Person's last name.\n",
    "    #   id - An integer denoting the Person's ID number.\n",
    "    #   scores - An array of integers denoting the Person's test scores.\n",
    "    #\n",
    "    # Write your constructor here\n",
    "    def __init__(self, firstName, lastName, idNumber, scores):\n",
    "        super().__init__(firstName, lastName, idNumber)\n",
    "        self.scores = scores \n",
    "    \n",
    "\n",
    "    #   Function Name: calculate\n",
    "    #   Return: A character denoting the grade.\n",
    "    #\n",
    "    # Write your function here\n",
    "    def calculate(self):\n",
    "        summation = 0\n",
    "        size = len(self.scores)\n",
    "        for i in self.scores:\n",
    "            summation += i\n",
    "        grade = summation / size\n",
    "\n",
    "        if (grade >= 90 and grade <= 100):\n",
    "            grade = \"O\"\n",
    "        elif (grade >= 80 and grade < 90):\n",
    "            grade = \"E\"\n",
    "        elif (grade >= 70 and grade < 80):\n",
    "            grade = \"A\"\n",
    "        elif (grade >= 55 and grade < 70):\n",
    "            grade = \"P\"\n",
    "        elif (grade >= 40 and grade < 50):\n",
    "            grade = \"D\"\n",
    "        else:\n",
    "            grade = \"T\"\n",
    "        return grade\n",
    "\n",
    "line = input().split()\n",
    "firstName = line[0]\n",
    "lastName = line[1]\n",
    "idNum = line[2]\n",
    "numScores = int(input()) # not needed for Python\n",
    "scores = list( map(int, input().split()) )\n",
    "s = Student(firstName, lastName, idNum, scores)\n",
    "s.printPerson()\n",
    "print(\"Grade:\", s.calculate())"
   ]
  },
  {
   "cell_type": "code",
   "execution_count": null,
   "id": "03b552cb-12ea-4f86-b2e2-a23c2e41b95e",
   "metadata": {},
   "outputs": [],
   "source": []
  },
  {
   "cell_type": "code",
   "execution_count": null,
   "id": "fce11a6e-8217-451a-a067-f09003b7c202",
   "metadata": {},
   "outputs": [],
   "source": []
  }
 ],
 "metadata": {
  "kernelspec": {
   "display_name": "Python 3 (ipykernel)",
   "language": "python",
   "name": "python3"
  },
  "language_info": {
   "codemirror_mode": {
    "name": "ipython",
    "version": 3
   },
   "file_extension": ".py",
   "mimetype": "text/x-python",
   "name": "python",
   "nbconvert_exporter": "python",
   "pygments_lexer": "ipython3",
   "version": "3.9.7"
  }
 },
 "nbformat": 4,
 "nbformat_minor": 5
}
