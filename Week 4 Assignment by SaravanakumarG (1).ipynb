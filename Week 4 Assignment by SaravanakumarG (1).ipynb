{
 "cells": [
  {
   "cell_type": "markdown",
   "id": "6c65e1b3-f98c-4289-a3a0-6e021e740f73",
   "metadata": {},
   "source": [
    "## WEEK4:Assignment SaravanakumarG (2021-7234)"
   ]
  },
  {
   "cell_type": "markdown",
   "id": "5337a283-338a-45f2-be1c-5fa0716e7290",
   "metadata": {},
   "source": [
    "Q1.TEAM ASSESMENTS\n",
    "\n",
    "The Team Leader of Testing team of XYZ company decided to assess the team members by organising a programming event. So he gave the team a task. The task is given an array of size N, find the number of distinct elements in the array and print them in ascending order. Those members who answer, will get some reward. Write a program to help the Team Leader to evaluate the solutions of the team members.\n",
    "\n",
    "Input format: The first line contains a single integer that denotes the size of the array, N. The second line contains N space separated integer values of the array.\n",
    "\n",
    "Output format: The first line is an integer that denotes the number of the distinct elements i nthe array. The second line is a series of integers seperated by space that denotes the distinct elements.\n",
    "\n",
    "Sample Input 1: 5 1 2 1 2 1 Sample Output 1: 2 1 2\n",
    "\n",
    "Sample Input 2: 5 145 25 21 25 36 Sample Output 2: 4 21 25 36 145 ```"
   ]
  },
  {
   "cell_type": "code",
   "execution_count": null,
   "id": "0dbbdf3a-0cf7-480b-b985-0e23835b40ad",
   "metadata": {},
   "outputs": [],
   "source": []
  },
  {
   "cell_type": "code",
   "execution_count": 18,
   "id": "7439872f-291e-4930-bbc0-6378dd0589cb",
   "metadata": {},
   "outputs": [
    {
     "name": "stdin",
     "output_type": "stream",
     "text": [
      "Enter the number of elements:  5\n",
      "\n",
      "Enter the number :  1 2 1 2 1\n"
     ]
    },
    {
     "name": "stdout",
     "output_type": "stream",
     "text": [
      "2\n",
      "1 2 "
     ]
    }
   ],
   "source": [
    "n=int(input(\"Enter the number of elements: \"))\n",
    "list1 = list(map(int,input(\"\\nEnter the number : \").split()[:n]))\n",
    "set1 = set(list1)\n",
    "list2=list(map(int,set1))\n",
    "list2.sort()\n",
    "print(len(list2))\n",
    "for i in list2:\n",
    "    print(i,end=\" \")\n",
    "                           "
   ]
  },
  {
   "cell_type": "raw",
   "id": "f36939a6-d750-46fb-9947-4ccf6c86c023",
   "metadata": {},
   "source": [
    "Q2.ANUSHKA’S PROBLEM\n",
    "\n",
    "Anuska has created a robot that will take instructions and work accordingly. Due to budget problem, she has set the memory low. To overcome that, she has to encode the instruction. Given the instruction S, count the consecutive characters and each character will be folowed by its frequency.\n",
    "For example, if the instruction is \"aaaabb\", the encoded instruction is \"a4b2\".\n",
    "\n",
    "Note:If the frequency is one, the count need not be printed.\n",
    "\n",
    "Input format:\n",
    "The first input is a string that denotes the instruction, S.\n",
    "\n",
    "Output format\n",
    "Output is a string that denotes the encoded string.\n",
    "\n",
    "Sample input 1:\n",
    "aaaabb\n",
    "Sample output 1:\n",
    "a4b2\n",
    "\n",
    "Sample input 2:\n",
    "sggvvvgss\n",
    "Sample output 2:\n",
    "sg2v3gs2 "
   ]
  },
  {
   "cell_type": "code",
   "execution_count": 24,
   "id": "5e7b5a8c-3e74-4b16-b3f0-7aff2af5530f",
   "metadata": {},
   "outputs": [
    {
     "name": "stdin",
     "output_type": "stream",
     "text": [
      " sggvvvgss\n"
     ]
    },
    {
     "name": "stdout",
     "output_type": "stream",
     "text": [
      "s g2v3g s2\n"
     ]
    }
   ],
   "source": [
    "def func1(s) :\n",
    "    i=0\n",
    "    while( i < len(s)) :\n",
    "        if i == len(s)-1:\n",
    "            print(str(s[i]),end = \" \")\n",
    "            break\n",
    "        else:\n",
    "            if s[i]==s[i+1] :\n",
    "                count = 1\n",
    "                while s[i] == s[i+1]:\n",
    "                    i += 1\n",
    "                    count += 1\n",
    "                    if i + 1 == len(s):\n",
    "                        break\n",
    "                print(str(s[i]) + str(count),end = \"\")\n",
    "            else:\n",
    "                print(str(s[i]),end = \" \")\n",
    "        i += 1\n",
    "    print()\n",
    "n=input()\n",
    "func1(n)\n",
    "                \n",
    "                "
   ]
  },
  {
   "cell_type": "markdown",
   "id": "f3c5d320-036c-484c-b666-6bfd3eae538b",
   "metadata": {},
   "source": [
    "Q3.SKILL TESTING\n",
    "Amar's team is assigned with a project that deals with the digital signals. He is aware that the digital signals will be represented as arrays. He wants to test his team with respect to their strength in arrays.As part of the skill testing, the  task is as follows.\n",
    "You are given an array of integers of size N.\n",
    "Consider all its contiguous subarrays of length k and find the maximum sum.\n",
    "Do this for all k from 1 to the length of the input array.\n",
    "Write a program to evaluate the task done by the kids.\n",
    "\n",
    "Input format:\n",
    "The first line contains a single integer denotes the size of the array, N.\n",
    "The second line contains N-space separated integer that corresponds to the values of the array.\n",
    "\n",
    "Output format:\n",
    "The output consists of N-space separated integer values of the result array.\n",
    "\n",
    "Sample Input 1:\n",
    "5\n",
    "-1 2 1 3 -2\n",
    "Sample Output 1:\n",
    "3 4 6 5 3\n",
    "\n",
    "Explanation:\n",
    "For inputArray = [-1, 2, 1, 3, -2], the output should be [3, 2, 1, 0, 0].\n",
    "The contiguous subarray\n",
    "    of K = 1, each subarray will have 1 element. The sub-array with maximum sum is [3]. So result[0] = 3.\n",
    "    of K = 2, each subarray will have 2 elements. The sub-array with maximum sum is [1,3]. So result[1] = 4.\n",
    "    of K = 3, each subarray will have 3 elements. The sub-array with maximum sum is [2,1,3]. So result[2] = 6.\n",
    "    of K = 4, each subarray will have 4 elements. The sub-array with maximum sum is [-1,2,1,3]. So result[1] = 5.\n",
    "    of K = 5, each subarray will have 5 elements. The sub-array with maximum sum is [-1,2,1,3,-2]. So result[1] = 3.\n",
    "So the result array is [3, 4, 6, 5, 3].\n",
    "\n",
    "Sample Input 2:\n",
    "5\n",
    "2 3 2 -2 3\n",
    "Sample Output 2:\n",
    "3 5 7 6 8 \n",
    "​"
   ]
  },
  {
   "cell_type": "code",
   "execution_count": 36,
   "id": "b49e1288-d12f-4ca3-9a8b-82da67d5276b",
   "metadata": {},
   "outputs": [
    {
     "name": "stdin",
     "output_type": "stream",
     "text": [
      "Enter number of elements :  5\n",
      "\n",
      "Enter the numbers :  2 3 2 -2 3\n"
     ]
    },
    {
     "name": "stdout",
     "output_type": "stream",
     "text": [
      "3 5 7 6 8 "
     ]
    }
   ],
   "source": [
    "n=int(input(\"Enter number of elements : \"))\n",
    "List1 = list(map(int,input(\"\\nEnter the numbers : \").split()))\n",
    "List2 = [List1[i:i+j] for i in range(0,len(List1)) for j in range(1,len(List1)-i+1)]\n",
    "j=1\n",
    "for i in range(0,n):\n",
    "    count=0\n",
    "    for i in range(0,len(List2)):\n",
    "        if len(List2[i])==j:\n",
    "            if sum(List2[i])>count:\n",
    "                count=sum(List2[i])\n",
    "    j+=1\n",
    "    print(count,end=\" \") \n",
    "    "
   ]
  },
  {
   "cell_type": "code",
   "execution_count": null,
   "id": "81b24f60-1691-4bc4-8015-6a3fe8e13732",
   "metadata": {},
   "outputs": [],
   "source": []
  },
  {
   "cell_type": "markdown",
   "id": "38cfc89d-3ed6-44b9-8136-ad7a186399c3",
   "metadata": {},
   "source": [
    "# Week 4 Assignment "
   ]
  },
  {
   "cell_type": "markdown",
   "id": "b3e5bf47-8292-4465-83f8-94c2b0c07227",
   "metadata": {},
   "source": [
    "## Submitted by Saravanakumar G(2021-7234)"
   ]
  },
  {
   "cell_type": "markdown",
   "id": "2de24c84-a560-4f19-9327-ffdc16a6c238",
   "metadata": {},
   "source": [
    "## Question 1"
   ]
  },
  {
   "cell_type": "code",
   "execution_count": 2,
   "id": "56cd69ab-c4ee-46c6-8b37-0a30a7df5fdf",
   "metadata": {},
   "outputs": [
    {
     "name": "stdin",
     "output_type": "stream",
     "text": [
      "Enter the number of elements:  5\n",
      "\n",
      "Enter the number :  1 2 1 2 1\n"
     ]
    },
    {
     "name": "stdout",
     "output_type": "stream",
     "text": [
      "2\n",
      "1 2 "
     ]
    }
   ],
   "source": [
    "n=int(input(\"Enter the number of elements: \"))\n",
    "list1 = list(map(int,input(\"\\nEnter the number : \").split()[:n]))\n",
    "set1 = set(list1)\n",
    "list2=list(map(int,set1))\n",
    "list2.sort()\n",
    "print(len(list2))\n",
    "for i in list2:\n",
    "    print(i,end=\" \")"
   ]
  },
  {
   "cell_type": "markdown",
   "id": "24c6a66c-66fa-431f-aba7-d58aed9a3e46",
   "metadata": {},
   "source": [
    "## Question 2"
   ]
  },
  {
   "cell_type": "code",
   "execution_count": 3,
   "id": "f366ebdd-9591-4aec-89fa-1d17d91b284a",
   "metadata": {},
   "outputs": [
    {
     "name": "stdin",
     "output_type": "stream",
     "text": [
      " sggvvvgss\n"
     ]
    },
    {
     "name": "stdout",
     "output_type": "stream",
     "text": [
      "s g2v3g s2\n"
     ]
    }
   ],
   "source": [
    "def func1(s) :\n",
    "    i=0\n",
    "    while( i < len(s)) :\n",
    "        if i == len(s)-1:\n",
    "            print(str(s[i]),end = \" \")\n",
    "            break\n",
    "        else:\n",
    "            if s[i]==s[i+1] :\n",
    "                count = 1\n",
    "                while s[i] == s[i+1]:\n",
    "                    i += 1\n",
    "                    count += 1\n",
    "                    if i + 1 == len(s):\n",
    "                        break\n",
    "                print(str(s[i]) + str(count),end = \"\")\n",
    "            else:\n",
    "                print(str(s[i]),end = \" \")\n",
    "        i += 1\n",
    "    print()\n",
    "n=input()\n",
    "func1(n)"
   ]
  },
  {
   "cell_type": "markdown",
   "id": "9fbf3b2f-2548-4cf3-bfe7-dacdd7a8e2ad",
   "metadata": {},
   "source": [
    "## Question 3"
   ]
  },
  {
   "cell_type": "code",
   "execution_count": 4,
   "id": "b3ceb952-ed3d-4af3-b91a-09d7d7bd60bf",
   "metadata": {},
   "outputs": [
    {
     "name": "stdin",
     "output_type": "stream",
     "text": [
      "Enter number of elements :  5\n",
      "\n",
      "Enter the numbers :  2 3 2 -2 3\n"
     ]
    },
    {
     "name": "stdout",
     "output_type": "stream",
     "text": [
      "3 5 7 6 8 "
     ]
    }
   ],
   "source": [
    "n=int(input(\"Enter number of elements : \"))\n",
    "List1 = list(map(int,input(\"\\nEnter the numbers : \").split()))\n",
    "List2 = [List1[i:i+j] for i in range(0,len(List1)) for j in range(1,len(List1)-i+1)]\n",
    "j=1\n",
    "for i in range(0,n):\n",
    "    count=0\n",
    "    for i in range(0,len(List2)):\n",
    "        if len(List2[i])==j:\n",
    "            if sum(List2[i])>count:\n",
    "                count=sum(List2[i])\n",
    "    j+=1\n",
    "    print(count,end=\" \") \n",
    "    "
   ]
  },
  {
   "cell_type": "code",
   "execution_count": null,
   "id": "1688a551-374b-449b-97f9-edc8aff41de7",
   "metadata": {},
   "outputs": [],
   "source": []
  }
 ],
 "metadata": {
  "kernelspec": {
   "display_name": "Python 3 (ipykernel)",
   "language": "python",
   "name": "python3"
  },
  "language_info": {
   "codemirror_mode": {
    "name": "ipython",
    "version": 3
   },
   "file_extension": ".py",
   "mimetype": "text/x-python",
   "name": "python",
   "nbconvert_exporter": "python",
   "pygments_lexer": "ipython3",
   "version": "3.9.7"
  }
 },
 "nbformat": 4,
 "nbformat_minor": 5
}
